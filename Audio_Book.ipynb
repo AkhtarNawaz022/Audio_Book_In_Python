{
  "nbformat": 4,
  "nbformat_minor": 0,
  "metadata": {
    "colab": {
      "provenance": [],
      "authorship_tag": "ABX9TyPBcUcvS66gYOosXYapHD9N"
    },
    "kernelspec": {
      "name": "python3",
      "display_name": "Python 3"
    },
    "language_info": {
      "name": "python"
    }
  },
  "cells": [
    {
      "cell_type": "code",
      "source": [
        "!pip install gtts # Install the missing gtts module.\n",
        "!pip install pyttsx3 # Install the missing pyttsx3 module.\n",
        "\n",
        "from gtts import gTTS\n",
        "import os\n",
        "\n",
        "def create_audiobook(text_file, output_file):\n",
        "    # Read the text file\n",
        "    with open(text_file, \"r\", encoding=\"utf-8\") as file:\n",
        "        text = file.read()\n",
        "\n",
        "    # Convert text to speech\n",
        "    tts = gTTS(text, lang=\"en\")\n",
        "\n",
        "    # Save the audio file\n",
        "    tts.save(output_file)\n",
        "\n",
        "# Specify the path to the text file\n",
        "text_file = \"example.txt\"  # Ensure this file exists or update the path\n",
        "output_file = \"audiobook.mp3\"\n",
        "\n",
        "# Check if the file exists\n",
        "if not os.path.exists(text_file):\n",
        "    with open(text_file, \"w\", encoding=\"utf-8\") as file:\n",
        "        file.write(\"This is an example text for the audiobook.\")  # Create a default file\n",
        "\n",
        "create_audiobook(text_file, output_file)\n",
        "os.system(f\"start {output_file}\")\n"
      ],
      "metadata": {
        "colab": {
          "base_uri": "https://localhost:8080/"
        },
        "id": "xU8ha3R2QP3v",
        "outputId": "256ebb90-b25f-482c-c2c1-0d64da6e9735"
      },
      "execution_count": 13,
      "outputs": [
        {
          "output_type": "execute_result",
          "data": {
            "text/plain": [
              "32512"
            ]
          },
          "metadata": {},
          "execution_count": 13
        }
      ]
    },
    {
      "cell_type": "code",
      "source": [],
      "metadata": {
        "id": "1BBaKooWQnRK"
      },
      "execution_count": null,
      "outputs": []
    }
  ]
}